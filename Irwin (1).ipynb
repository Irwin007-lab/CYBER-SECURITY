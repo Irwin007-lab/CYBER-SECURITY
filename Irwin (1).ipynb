{
  "nbformat": 4,
  "nbformat_minor": 0,
  "metadata": {
    "colab": {
      "name": "Irwin.ipynb",
      "provenance": [],
      "collapsed_sections": []
    },
    "kernelspec": {
      "name": "python3",
      "display_name": "Python 3"
    },
    "language_info": {
      "name": "python"
    }
  },
  "cells": [
    {
      "cell_type": "code",
      "metadata": {
        "colab": {
          "base_uri": "https://localhost:8080/"
        },
        "id": "rq9BnPganSDS",
        "outputId": "27d16895-f4b9-4409-bcb1-d47528f7e3b9"
      },
      "source": [
        "import requests\n",
        " \n",
        "from datetime import datetime\n",
        " \n",
        "api_key = '87d845b0b6cf29baa1a73cc34b067a95'\n",
        "location = input(\"Enter the city name: \")\n",
        " \n",
        "complete_api_link = \"https://api.openweathermap.org/data/2.5/weather?q=\"+location+\"&appid=\"+api_key\n",
        "api_link = requests.get(complete_api_link)\n",
        "api_data = api_link.json()\n",
        " \n",
        "\n",
        "temp_city = ((api_data['main']['temp']) - 273.15)\n",
        "weather_desc = api_data['weather'][0]['description']\n",
        "hmdt = api_data['main']['humidity']\n",
        "wind_spd = api_data['wind']['speed']\n",
        "date_time = datetime.now().strftime(\"%d %b %Y | %I:%M:%S %p\")\n",
        " \n",
        "a = print (\"-------------------------------------------------------------\")\n",
        "b = print (\"Weather Stats for - {}  || {}\".format(location.upper(), date_time))\n",
        "c = print (\"-------------------------------------------------------------\")\n",
        " \n",
        "d = print (\"Current temperature is: {:.2f} deg C\".format(temp_city))\n",
        "e = print (\"Current weather desc  :\",weather_desc)\n",
        "f = print (\"Current Humidity      :\",hmdt, '%')\n",
        "g = print (\"Current wind speed    :\",wind_spd ,\"kmph\")\n",
        "\n",
        " \n",
        "with open(\"weather.txt\",\"w\") as F:\n",
        "      F.write(str(a))\n",
        "      F.write(str(b))\n",
        "      F.write(str(c))\n",
        "      F.write(str(d))\n",
        "      F.write(str(e))\n",
        "      F.write(str(f))\n",
        "      F.write(str(g))\n",
        "F.close()\n",
        "\n"
      ],
      "execution_count": null,
      "outputs": [
        {
          "output_type": "stream",
          "text": [
            "Enter the city name: Coimbatore\n",
            "-------------------------------------------------------------\n",
            "Weather Stats for - COIMBATORE  || 23 Jun 2021 | 03:34:16 AM\n",
            "-------------------------------------------------------------\n",
            "Current temperature is: 25.88 deg C\n",
            "Current weather desc  : mist\n",
            "Current Humidity      : 78 %\n",
            "Current wind speed    : 4.12 kmph\n"
          ],
          "name": "stdout"
        }
      ]
    }
  ]
}